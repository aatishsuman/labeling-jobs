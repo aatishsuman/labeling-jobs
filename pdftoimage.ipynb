{
 "cells": [
  {
   "cell_type": "code",
   "execution_count": 1,
   "id": "459d9f72-6cc7-49a2-a72a-d2a901170480",
   "metadata": {},
   "outputs": [],
   "source": [
    "import os\n",
    "from pdf2image import convert_from_path\n",
    "from tqdm.notebook import tqdm_notebook"
   ]
  },
  {
   "cell_type": "code",
   "execution_count": 4,
   "id": "7c3dd75a-15f3-4473-a98b-08d5d16fa870",
   "metadata": {},
   "outputs": [],
   "source": [
    "for file in tqdm_notebook(os.listdir('batch2')):\n",
    "    if file.endswith('.pdf'):\n",
    "        pages = convert_from_path(os.path.join('batch2', file), dpi=200, thread_count=4)\n",
    "        for i, page in enumerate(pages):\n",
    "            page.save(os.path.join('batch2', 'input', file[:-4] + str(i + 1) + '.jpg'), 'JPEG')"
   ]
  }
 ],
 "metadata": {
  "kernelspec": {
   "display_name": "Python 3",
   "language": "python",
   "name": "python3"
  },
  "language_info": {
   "codemirror_mode": {
    "name": "ipython",
    "version": 3
   },
   "file_extension": ".py",
   "mimetype": "text/x-python",
   "name": "python",
   "nbconvert_exporter": "python",
   "pygments_lexer": "ipython3",
   "version": "3.8.8"
  }
 },
 "nbformat": 4,
 "nbformat_minor": 5
}
